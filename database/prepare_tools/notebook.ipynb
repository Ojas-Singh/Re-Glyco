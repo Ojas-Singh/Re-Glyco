{
 "cells": [
  {
   "cell_type": "markdown",
   "metadata": {},
   "source": [
    "# cpptraj script \n",
    "```\n",
    "parm structure1.ion.prm7\n",
    "trajin prod1.nc  \n",
    "trajin prod2.nc\n",
    "autoimage\n",
    "strip :WAT,Cl-,Na+,H\n",
    "trajout prodfull.dry.pdb pdb\n",
    "```"
   ]
  },
  {
   "cell_type": "code",
   "execution_count": 10,
   "metadata": {},
   "outputs": [],
   "source": [
    "import numpy as np\n",
    "import pandas as pd\n",
    "import numba\n",
    "import sklearn\n",
    "from numba import njit\n",
    "from scipy.spatial import distance\n",
    "from sklearn.decomposition import PCA\n"
   ]
  },
  {
   "cell_type": "code",
   "execution_count": null,
   "metadata": {},
   "outputs": [],
   "source": []
  },
  {
   "cell_type": "code",
   "execution_count": 2,
   "metadata": {},
   "outputs": [],
   "source": [
    "def to_DF(pdbddata):\n",
    "    df = pd.DataFrame(data=pdbddata)\n",
    "    df = df.transpose()\n",
    "    df.columns = ['Number','Name','ResName','Chain','ResId','X','Y','Z','Element']\n",
    "    return df\n",
    "\n",
    "def to_normal(df):\n",
    "    Number = df['Number'].tolist()\n",
    "    Name = df['Name'].tolist()\n",
    "    ResName = df['ResName'].tolist()\n",
    "    Chain = df['Chain'].tolist()\n",
    "    ResId = df['ResId'].tolist()\n",
    "    X = df['X'].tolist()\n",
    "    Y = df['Y'].tolist()\n",
    "    Z = df['Z'].tolist()\n",
    "    Element = df['Element'].tolist()\n",
    "    pdbdata=[Number,Name,ResName,Chain,ResId,X,Y,Z,Element]\n",
    "    return pdbdata\n",
    "\n",
    "def parse(f):\n",
    "    Number = []\n",
    "    Name = []\n",
    "    ResName = []\n",
    "    Chain = []\n",
    "    ResId = []\n",
    "    X = []\n",
    "    Y = []\n",
    "    Z = []\n",
    "    Element = []\n",
    "    pdbdata=[Number,Name,ResName,Chain,ResId,X,Y,Z,Element]\n",
    "    with open(f, 'r') as f:\n",
    "            lines = f.readlines()\n",
    "            i=1\n",
    "            for line in lines:\n",
    "                if line.startswith(\"ATOM\"):\n",
    "                    pdbdata[0].append(int((line[7:11]).strip(\" \")))\n",
    "                    pdbdata[1].append((line[12:16]).strip(\" \"))\n",
    "                    pdbdata[2].append((line[17:20]).strip(\" \"))\n",
    "                    pdbdata[3].append((line[20:22]).strip(\" \"))\n",
    "                    pdbdata[4].append(int((line[22:26]).strip(\" \")))\n",
    "                    pdbdata[5].append(float(line[31:38]))\n",
    "                    pdbdata[6].append(float(line[39:46]))\n",
    "                    pdbdata[7].append(float(line[47:54]))\n",
    "                    pdbdata[8].append((line[76:78]).strip(\" \"))\n",
    "                    i+=1\n",
    "                if  line.startswith(\"END\"):\n",
    "                    break\n",
    "            o = len(pdbdata[0])\n",
    "    return pdbdata\n",
    "\n",
    "def multi(f):\n",
    "    frames=[]\n",
    "    pdbdata = parse(f)\n",
    "    with open(f, 'r') as f:\n",
    "            lines = f.readlines()\n",
    "            mat = np.zeros((len(pdbdata[0]),3))\n",
    "            j=1\n",
    "            i=0\n",
    "            for line in lines:\n",
    "                if line.startswith(\"ATOM\"):\n",
    "                    mat[i,0]=float(line[31:38])\n",
    "                    mat[i,1]=float(line[39:46])\n",
    "                    mat[i,2]=float(line[47:54])\n",
    "                    i+=1\n",
    "                if line.startswith(\"ENDMDL\"):\n",
    "                    j+=1\n",
    "                    i=0\n",
    "                    frames.append(mat)\n",
    "                    mat = np.zeros((len(pdbdata[0]),3))\n",
    "\n",
    "    return pdbdata,frames\n"
   ]
  },
  {
   "cell_type": "code",
   "execution_count": 3,
   "metadata": {},
   "outputs": [],
   "source": [
    "f=\"../../data/prodfull.dry.pdb\"\n",
    "pdbdata, frames = multi(f)\n"
   ]
  },
  {
   "cell_type": "code",
   "execution_count": 9,
   "metadata": {},
   "outputs": [],
   "source": [
    "# @njit\n",
    "def G_flatten(frame):\n",
    "    G = distance.cdist(frame, frame, 'euclidean')\n",
    "    r = np.arange(len(G))\n",
    "    mask = r[:,None]<r\n",
    "    G_flat = np.concatenate((G.T[mask],np.diag(G)))\n",
    "    return G_flat\n",
    "\n",
    "G = np.zeros((len(frames),int(len(pdbdata[0])*(len(pdbdata[0])+1)/2)))\n",
    "for i in range(len(frames)):\n",
    "    G[i]= G_flatten(frames[i])\n"
   ]
  },
  {
   "cell_type": "code",
   "execution_count": 11,
   "metadata": {},
   "outputs": [],
   "source": [
    "name=\"test\"\n",
    "pca = PCA(n_components=20)\n",
    "t = pca.fit_transform(G)\n",
    "x=[]\n",
    "y=[]\n",
    "for i in t:\n",
    "    x.append(i[0])\n",
    "    y.append(i[1])\n",
    "df = pd.DataFrame(data=np.column_stack((x,y)), columns = ['X','Y'])\n",
    "df.to_csv('output/'+name+'G_pca.csv',index_label=\"i\")  \n",
    "PCA_components = pd.DataFrame(t)\n",
    "PCA_components.to_csv('output/'+name+'G_pca_full.csv',index_label=\"i\") \n"
   ]
  }
 ],
 "metadata": {
  "kernelspec": {
   "display_name": "Python 3 (ipykernel)",
   "language": "python",
   "name": "python3"
  },
  "language_info": {
   "codemirror_mode": {
    "name": "ipython",
    "version": 3
   },
   "file_extension": ".py",
   "mimetype": "text/x-python",
   "name": "python",
   "nbconvert_exporter": "python",
   "pygments_lexer": "ipython3",
   "version": "3.10.6 | packaged by conda-forge | (main, Oct  7 2022, 20:14:50) [MSC v.1916 64 bit (AMD64)]"
  },
  "vscode": {
   "interpreter": {
    "hash": "097e470c8c8f1ef88b5b9ea26aca09f0fe161991988a87b01271d981516b7664"
   }
  }
 },
 "nbformat": 4,
 "nbformat_minor": 2
}
